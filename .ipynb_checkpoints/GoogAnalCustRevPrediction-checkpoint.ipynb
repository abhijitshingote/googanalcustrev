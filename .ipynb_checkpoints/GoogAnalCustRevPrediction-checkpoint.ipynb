{
 "cells": [
  {
   "cell_type": "code",
   "execution_count": 1,
   "metadata": {},
   "outputs": [],
   "source": [
    "import numpy as np\n",
    "import pandas as pd\n",
    "import matplotlib.pyplot as plt\n",
    "import seaborn as sns\n"
   ]
  },
  {
   "cell_type": "code",
   "execution_count": null,
   "metadata": {},
   "outputs": [],
   "source": [
    "df=pd.read_csv('train_v2.csv',usecols=['channelGrouping','customDimensions','device','geoNetwork',\n",
    "                                      'hits','socialEngagementType','totals','trafficSource'\n",
    "                                       ,'visitNumber'],engine='c',nrows=1000000)"
   ]
  },
  {
   "cell_type": "code",
   "execution_count": null,
   "metadata": {},
   "outputs": [],
   "source": [
    "df.head()"
   ]
  },
  {
   "cell_type": "code",
   "execution_count": null,
   "metadata": {},
   "outputs": [],
   "source": [
    "df.channelGrouping.value_counts()"
   ]
  },
  {
   "cell_type": "code",
   "execution_count": null,
   "metadata": {},
   "outputs": [],
   "source": [
    "df.customDimensions.value_counts()"
   ]
  },
  {
   "cell_type": "code",
   "execution_count": null,
   "metadata": {},
   "outputs": [],
   "source": [
    "device_values=pd.DataFrame([eval(x.replace('false','False').replace('true','True')) \n",
    "                            for x in df.device.value_counts().index])\n",
    "devicevars=[]\n",
    "for col in device_values.columns:\n",
    "    devicevars.append((col,len(device_values[col].value_counts())))\n",
    "#     print(col)\n",
    "#     print(device_values[col].value_counts())\n",
    "devicevars=sorted(devicevars,key=lambda x: x[1],reverse=True)\n",
    "devicevars"
   ]
  },
  {
   "cell_type": "code",
   "execution_count": null,
   "metadata": {},
   "outputs": [],
   "source": [
    "totals_values=pd.DataFrame([eval(x.replace('false','False').replace('true','True')) \n",
    "                            for x in df.totals.value_counts().index])\n",
    "totalsvars=[]\n",
    "for col in totals_values.columns:\n",
    "    totalsvars.append((col,len(totals_values[col].value_counts())))\n",
    "#     print(col)\n",
    "#     print(device_values[col].value_counts())\n",
    "totalsvars=sorted(totalsvars,key=lambda x: x[1],reverse=True)\n",
    "totalsvars"
   ]
  },
  {
   "cell_type": "code",
   "execution_count": null,
   "metadata": {},
   "outputs": [],
   "source": [
    "## Traffic Source - has tons of distinct values, so using alternate approach to determine what are the keys\n",
    "\n",
    "trafficsource_values=pd.DataFrame([eval(x.replace('false','False').replace('true','True')) \n",
    "                            for x in df.trafficSource.value_counts().index])\n",
    "# trafficSourcevars=[]\n",
    "# for col in trafficsource_values.columns:\n",
    "#     trafficSourcevars.append((col,len(trafficsource_values[col].value_counts())))\n",
    "# #     print(col)\n",
    "# #     print(device_values[col].value_counts())\n",
    "# trafficSourcevars=sorted(trafficSourcevars,key=lambda x: x[1],reverse=True)\n",
    "# trafficSourcevars\n",
    "\n",
    "tfsourcedf=pd.DataFrame([eval(x.replace('false','False').replace('true','True')) for x in df.trafficSource.value_counts().index])\n",
    "tfsourcedf.columns"
   ]
  },
  {
   "cell_type": "code",
   "execution_count": null,
   "metadata": {},
   "outputs": [],
   "source": [
    "#### geoNetwork\n",
    "\n",
    "geoNetwork_values=pd.DataFrame([eval(x.replace('false','False').replace('true','True')) \n",
    "                            for x in df.geoNetwork.value_counts().index])\n",
    "geoNetwork_vars=[]\n",
    "for col in geoNetwork_values.columns:\n",
    "    geoNetwork_vars.append((col,len(geoNetwork_values[col].value_counts())))\n",
    "#     print(col)\n",
    "#     print(device_values[col].value_counts())\n",
    "geoNetwork_vars=sorted(geoNetwork_vars,key=lambda x: x[1],reverse=True)\n",
    "geoNetwork_vars"
   ]
  },
  {
   "cell_type": "code",
   "execution_count": null,
   "metadata": {},
   "outputs": [],
   "source": [
    "#### hits taking a long time... leave for last\n",
    "\n",
    "# hits_values=pd.DataFrame([eval(x.replace('false','False').replace('true','True')) \n",
    "#                             for x in df.hits.value_counts().index])\n",
    "hits_vars=[]\n",
    "# for col in hits_values.columns:\n",
    "#     hits_vars.append((col,len(hits_values[col].value_counts())))\n",
    "# #     print(col)\n",
    "# #     print(device_values[col].value_counts())\n",
    "# hits_vars=sorted(hits_vars,key=lambda x: x[1],reverse=True)\n",
    "# hits_vars\n",
    "\n",
    "def converthits(hitlist):\n",
    "    hitlist=eval(hitlist)\n",
    "    hitnumberlist=[x['hitNumber'] for x in hitlist]\n",
    "    return {'hitNumber':hitnumberlist}\n",
    "\n",
    "# temp=df.hits.values[1]\n",
    "# df['hits'].apply(converthits)\n",
    "\n",
    "# pd.DataFrame(converthits(temp))"
   ]
  },
  {
   "cell_type": "code",
   "execution_count": null,
   "metadata": {},
   "outputs": [],
   "source": [
    "#Refactored into getkeyvals\n",
    "\n",
    "# def getdevice(devicestring,key=None):\n",
    "#     devicestring=eval(devicestring.replace('false','False').replace('true','True'))\n",
    "#     try:\n",
    "#         return devicestring[key]\n",
    "#     except:\n",
    "#         return \"\"\n",
    "\n",
    "# for key in ['browser','operatingSystem','deviceCategory','isMobile']:\n",
    "#     df['device' + '_' + key]=df['device'].apply(getdevice,key=key)\n",
    "\n",
    "# def getGeo(Geostring,key=None):\n",
    "#     Geostring=eval(Geostring.replace('false','False').replace('true','True'))\n",
    "#     try:\n",
    "#         return Geostring[key]\n",
    "#     except:\n",
    "#         return \"\"\n",
    "\n",
    "# for key in ['networkDomain','country','city','region','subContinent','metro','continent']:\n",
    "#     df['geo' + '_' + key]=df['geoNetwork'].apply(getdevice,key=key)"
   ]
  },
  {
   "cell_type": "code",
   "execution_count": null,
   "metadata": {
    "scrolled": true
   },
   "outputs": [],
   "source": [
    "#Good\n",
    "def getDimensions(string):\n",
    "    dimensions=eval(string)\n",
    "    try:\n",
    "        return dimensions[0]['value']\n",
    "    except:\n",
    "        return \"\"\n",
    "\n",
    "df['customDimensions_value']=df['customDimensions'].apply(getDimensions)\n"
   ]
  },
  {
   "cell_type": "code",
   "execution_count": null,
   "metadata": {},
   "outputs": [],
   "source": [
    "colnames=['device','geoNetwork','trafficSource','totals']\n",
    "keys={\n",
    "    'device':['browser','operatingSystem','deviceCategory','isMobile'],\n",
    "    'geoNetwork':['networkDomain','country','city','region','subContinent','metro','continent'],\n",
    "    'trafficSource':['adContent', 'adwordsClickInfo', 'campaign', 'isTrueDirect', 'keyword',\n",
    "       'medium', 'referralPath', 'source'],\n",
    "    'totals':['timeOnSite', 'totalTransactionRevenue', 'transactionRevenue', 'hits', \n",
    "              'sessionQualityDim', 'pageviews', 'transactions', 'bounces', 'newVisits', 'visits']\n",
    "}\n",
    "\n",
    "\n",
    "def getkeyvals(parsestring,key=None):\n",
    "    parsestring=eval(parsestring.replace('false','False').replace('true','True'))\n",
    "    try:\n",
    "        return parsestring[key]\n",
    "    except:\n",
    "        return \"\"\n",
    "\n",
    "for colname in colnames:\n",
    "    for key in keys[colname]:\n",
    "        df[colname + '_' + key]=df[colname].apply(getkeyvals,key=key)\n",
    "    \n",
    "    "
   ]
  },
  {
   "cell_type": "code",
   "execution_count": null,
   "metadata": {},
   "outputs": [],
   "source": [
    "df=df.drop(colnames + ['customDimensions'],axis=1) # Drop parsed colums"
   ]
  },
  {
   "cell_type": "code",
   "execution_count": null,
   "metadata": {},
   "outputs": [],
   "source": [
    "df=df.join(pd.DataFrame(list(df.trafficSource_adwordsClickInfo.values)))\n",
    "df=df.drop(['trafficSource_adwordsClickInfo'],axis=1)"
   ]
  },
  {
   "cell_type": "code",
   "execution_count": null,
   "metadata": {},
   "outputs": [],
   "source": [
    "df.head(2).T"
   ]
  },
  {
   "cell_type": "code",
   "execution_count": null,
   "metadata": {},
   "outputs": [],
   "source": [
    "df.info()"
   ]
  },
  {
   "cell_type": "code",
   "execution_count": null,
   "metadata": {},
   "outputs": [],
   "source": [
    "df[['hits']].info()"
   ]
  },
  {
   "cell_type": "code",
   "execution_count": null,
   "metadata": {},
   "outputs": [],
   "source": []
  }
 ],
 "metadata": {
  "kernelspec": {
   "display_name": "Python 3",
   "language": "python",
   "name": "python3"
  },
  "language_info": {
   "codemirror_mode": {
    "name": "ipython",
    "version": 3
   },
   "file_extension": ".py",
   "mimetype": "text/x-python",
   "name": "python",
   "nbconvert_exporter": "python",
   "pygments_lexer": "ipython3",
   "version": "3.6.5"
  }
 },
 "nbformat": 4,
 "nbformat_minor": 2
}
